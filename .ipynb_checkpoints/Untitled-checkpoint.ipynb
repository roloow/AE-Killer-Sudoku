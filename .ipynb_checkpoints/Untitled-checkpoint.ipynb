{
 "cells": [
  {
   "cell_type": "code",
   "execution_count": 1,
   "metadata": {},
   "outputs": [],
   "source": [
    "import matplotlib.pyplot as plt"
   ]
  },
  {
   "cell_type": "code",
   "execution_count": null,
   "metadata": {},
   "outputs": [],
   "source": [
    "file = open('results/out_extreme_filled.txt')\n",
    "results = dict()\n",
    "resultsMut = dict()\n",
    "for line in file:\n",
    "    line = line.strip().split(':')\n",
    "    line = map(int(), line)\n",
    "    if (line[2] != 0.33 or line[3] != 0.33):\n",
    "        if (line[0] not in resultsMut):\n",
    "            resultsMut[line[0]] = list()\n",
    "        resultsMut[line[0]].append((line[4], line[5]))\n",
    "        continue\n",
    "    if (line[0] not in results):\n",
    "        results[line[0]] = list()\n",
    "    results[line[0]].append((line[4], line[5]))"
   ]
  },
  {
   "cell_type": "code",
   "execution_count": null,
   "metadata": {},
   "outputs": [],
   "source": [
    "print (results)"
   ]
  },
  {
   "cell_type": "code",
   "execution_count": null,
   "metadata": {},
   "outputs": [],
   "source": [
    "fig = plt.figure()\n",
    "ax = fig.add_subplot(1, 1, 1)\n",
    "ax.plot(xdata1, ydata1, 'r', xdata2, ydata2, 'b')\n",
    "ax.set_title('line plot with data points')\n",
    "\n",
    "plt.plot()"
   ]
  }
 ],
 "metadata": {
  "kernelspec": {
   "display_name": "Python 3",
   "language": "python",
   "name": "python3"
  }
 },
 "nbformat": 4,
 "nbformat_minor": 2
}
